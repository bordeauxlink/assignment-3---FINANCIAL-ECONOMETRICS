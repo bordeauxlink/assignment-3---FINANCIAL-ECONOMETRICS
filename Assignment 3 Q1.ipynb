{
 "cells": [
  {
   "cell_type": "code",
   "execution_count": 1,
   "id": "bc4e32da",
   "metadata": {},
   "outputs": [],
   "source": [
    "import pandas as pd\n",
    "import matplotlib.pyplot as plt\n",
    "import numpy as np\n",
    "from statsmodels.tsa.ar_model import AutoReg\n",
    "import warnings\n",
    "warnings.filterwarnings(\"ignore\")\n",
    "\n",
    "df = pd.read_csv('PJM.csv')"
   ]
  },
  {
   "cell_type": "markdown",
   "id": "4ad5484e",
   "metadata": {},
   "source": [
    "# a.\n"
   ]
  },
  {
   "cell_type": "code",
   "execution_count": 2,
   "id": "5b9031e1",
   "metadata": {},
   "outputs": [],
   "source": [
    "def ar_p(s, phi):\n",
    "    \n",
    "    forecast = phi[0] + np. dot(phi[1:], s[::-1])\n",
    "    return forecast"
   ]
  },
  {
   "cell_type": "code",
   "execution_count": 3,
   "id": "01f34611",
   "metadata": {},
   "outputs": [],
   "source": [
    "# using optimal lag selected from assignment 2 \n",
    "# For Zonal COMED price\n",
    "# Optimal lags is 16, so we use last 16 observations to do the forecast\n",
    "# as well as phi from regression result\n"
   ]
  },
  {
   "cell_type": "code",
   "execution_count": 4,
   "id": "fec1cac9",
   "metadata": {},
   "outputs": [
    {
     "data": {
      "text/plain": [
       "23.678771871299972"
      ]
     },
     "execution_count": 4,
     "metadata": {},
     "output_type": "execute_result"
    }
   ],
   "source": [
    "res = AutoReg(df[' Zonal COMED price'], lags=16).fit()\n",
    "phi = res.params\n",
    "s = df[' Zonal COMED price'].tail(16)\n",
    "forecast = ar_p(s,phi)\n",
    "forecast"
   ]
  },
  {
   "cell_type": "code",
   "execution_count": 5,
   "id": "0020982f",
   "metadata": {},
   "outputs": [
    {
     "data": {
      "text/plain": [
       "85295.82107256"
      ]
     },
     "execution_count": 5,
     "metadata": {},
     "output_type": "execute_result"
    }
   ],
   "source": [
    "# For System load forecast\n",
    "# Optimal lags is 3, so we use last 3 observations to do the forecast\n",
    "# as well as phi from regression result\n",
    "res = AutoReg(df[' System load forecast'], lags=3).fit()\n",
    "phi = res.params\n",
    "s = df[' System load forecast'].tail(3)\n",
    "forecast = ar_p(s,phi)\n",
    "forecast"
   ]
  },
  {
   "cell_type": "code",
   "execution_count": 6,
   "id": "4c30324c",
   "metadata": {},
   "outputs": [
    {
     "data": {
      "text/plain": [
       "10067.358660190484"
      ]
     },
     "execution_count": 6,
     "metadata": {},
     "output_type": "execute_result"
    }
   ],
   "source": [
    "# For Zonel load forecast\n",
    "# Optimal lags is 5, so we use last 5 observations to do the forecast\n",
    "# as well as phi from regression result\n",
    "res = AutoReg(df[' Zonal COMED load foecast'], lags=5).fit()\n",
    "phi = res.params\n",
    "s = df[' Zonal COMED load foecast'].tail(5)\n",
    "forecast = ar_p(s,phi)\n",
    "forecast"
   ]
  },
  {
   "cell_type": "markdown",
   "id": "179d9dca",
   "metadata": {},
   "source": [
    "# b."
   ]
  },
  {
   "cell_type": "code",
   "execution_count": 7,
   "id": "5216e12c",
   "metadata": {},
   "outputs": [],
   "source": [
    "def get_phi_resi(s, p):\n",
    "    \n",
    "    mod = AutoReg(s, lags=p).fit()\n",
    "    phi = mod.params\n",
    "    resi = mod.resid\n",
    "    \n",
    "    return np.array(phi), np.array(resi)"
   ]
  },
  {
   "cell_type": "code",
   "execution_count": 8,
   "id": "d055af82",
   "metadata": {},
   "outputs": [
    {
     "name": "stdout",
     "output_type": "stream",
     "text": [
      "Estimated coefficients: [ 1.80982889  1.11241998 -0.13615611 -0.09284347  0.03548767 -0.057198\n",
      "  0.00547631  0.04398162 -0.08170224  0.01899361  0.06487121  0.14443145\n",
      " -0.1586853   0.17512893 -0.20639269 -0.06041851  0.13320543]\n",
      "Residuals: [ 1.18127577  3.90778336  1.89629594 ... -1.09980742 -0.4743879\n",
      "  0.02216413]\n"
     ]
    }
   ],
   "source": [
    "# using optimal lag selected from assignment 2 \n",
    "# For Zonal COMED price\n",
    "s = df[' Zonal COMED price']\n",
    "p = 16\n",
    "phi_p, resi_p = get_phi_resi(s, p)\n",
    "print(\"Estimated coefficients:\", phi_p)\n",
    "print(\"Residuals:\", resi_p)"
   ]
  },
  {
   "cell_type": "code",
   "execution_count": 9,
   "id": "bd9ff993",
   "metadata": {},
   "outputs": [
    {
     "data": {
      "text/plain": [
       "(17,)"
      ]
     },
     "execution_count": 9,
     "metadata": {},
     "output_type": "execute_result"
    }
   ],
   "source": [
    "phi_p.shape"
   ]
  },
  {
   "cell_type": "code",
   "execution_count": 10,
   "id": "08d877f4",
   "metadata": {},
   "outputs": [
    {
     "data": {
      "text/plain": [
       "(52400,)"
      ]
     },
     "execution_count": 10,
     "metadata": {},
     "output_type": "execute_result"
    }
   ],
   "source": [
    "resi_p.shape"
   ]
  },
  {
   "cell_type": "code",
   "execution_count": 11,
   "id": "8cfdad37",
   "metadata": {},
   "outputs": [
    {
     "name": "stdout",
     "output_type": "stream",
     "text": [
      "Estimated coefficients: [ 2.26734180e+03  2.23678861e+00 -1.71501461e+00  4.53312951e-01]\n",
      "Residuals: [-296.1429006   306.57411405  561.29016355 ... -552.46223455 -912.12935359\n",
      " -973.98253603]\n"
     ]
    }
   ],
   "source": [
    "# For System load forecast\n",
    "s = df[' System load forecast']\n",
    "p = 3\n",
    "phi_s, resi_s = get_phi_resi(s, p)\n",
    "print(\"Estimated coefficients:\", phi_s)\n",
    "print(\"Residuals:\", resi_s)"
   ]
  },
  {
   "cell_type": "code",
   "execution_count": 12,
   "id": "58fab8d6",
   "metadata": {},
   "outputs": [
    {
     "name": "stdout",
     "output_type": "stream",
     "text": [
      "Estimated coefficients: [ 3.22517794e+02  2.13545815e+00 -1.61897305e+00  6.48358009e-01\n",
      " -2.75543407e-01  8.23373577e-02]\n",
      "Residuals: [  17.47792893  116.68567927  141.99216092 ...  -27.09147273  -60.50929364\n",
      " -244.41268172]\n"
     ]
    }
   ],
   "source": [
    "# For Zonel load forecast\n",
    "s = df[' Zonal COMED load foecast']\n",
    "p = 5\n",
    "phi_z, resi_z = get_phi_resi(s, p)\n",
    "print(\"Estimated coefficients:\", phi_z)\n",
    "print(\"Residuals:\", resi_z)"
   ]
  },
  {
   "cell_type": "markdown",
   "id": "1908098a",
   "metadata": {},
   "source": [
    "# c."
   ]
  },
  {
   "cell_type": "code",
   "execution_count": 13,
   "id": "d4e10a85",
   "metadata": {},
   "outputs": [],
   "source": [
    "from numpy.random import default_rng\n",
    "BitGenerator = default_rng()  \n",
    "\n",
    "def simulate_ar(bg, s, phi, e, h):\n",
    "    MySim = np.zeros(h)\n",
    "    pred = np.zeros(h)\n",
    "    \n",
    "#AR process: forecast next period and rolling it to s\n",
    "    for i in range(h):\n",
    "        next_pred = phi[0] + np.dot(phi[1:], s[::-1])\n",
    "        pred[i] = next_pred\n",
    "        s = np.append(s[1:], next_pred)\n",
    "        \n",
    "#Bootstrape error\n",
    "    error = [e[bg.integers(0, len(e))] for _ in range(h)]\n",
    "    \n",
    "    for i in range(h):\n",
    "        MySim[i] = pred[i] + error[i]\n",
    "        \n",
    "    return MySim"
   ]
  },
  {
   "cell_type": "code",
   "execution_count": 14,
   "id": "7ece3abb",
   "metadata": {},
   "outputs": [
    {
     "data": {
      "text/plain": [
       "array([21.67659698, 18.5825188 , 27.27254048, 26.61531413, 26.9896421 ])"
      ]
     },
     "execution_count": 14,
     "metadata": {},
     "output_type": "execute_result"
    }
   ],
   "source": [
    "# using optimal lag selected from assignment 2 \n",
    "# using h=5 as prediction length\n",
    "bg = BitGenerator\n",
    "\n",
    "# For Zonal COMED price\n",
    "# Optimal lags is 16, so we use last 16 observations to do the forecast\n",
    "# as well as phi from part b\n",
    "s = df[' Zonal COMED price'].tail(16)\n",
    "phi = phi_p\n",
    "e = resi_p\n",
    "h = 5\n",
    "MySim = simulate_ar(bg, s, phi, e, h)\n",
    "\n",
    "MySim\n"
   ]
  },
  {
   "cell_type": "code",
   "execution_count": 15,
   "id": "1cadcd58",
   "metadata": {},
   "outputs": [
    {
     "data": {
      "text/plain": [
       "array([85686.89570415, 83664.33101787, 82191.57759835, 81792.85442923,\n",
       "       83055.12373899])"
      ]
     },
     "execution_count": 15,
     "metadata": {},
     "output_type": "execute_result"
    }
   ],
   "source": [
    "# For System load forecast\n",
    "# Optimal lags is 3, so we use last 3 observations to do the forecast\n",
    "# as well as phi from part b\n",
    "s = df[' System load forecast'].tail(3)\n",
    "phi = phi_s\n",
    "e = resi_s\n",
    "h = 5\n",
    "MySim = simulate_ar(bg, s, phi, e, h)\n",
    "\n",
    "MySim"
   ]
  },
  {
   "cell_type": "code",
   "execution_count": 16,
   "id": "e69de898",
   "metadata": {},
   "outputs": [
    {
     "data": {
      "text/plain": [
       "array([11109.84138399,  9883.74441347,  9695.74379851,  9707.82423745,\n",
       "        9703.01393435])"
      ]
     },
     "execution_count": 16,
     "metadata": {},
     "output_type": "execute_result"
    }
   ],
   "source": [
    "# For Zonel load forecast\n",
    "# Optimal lags is 5, so we use last 5 observations to do the forecast\n",
    "# as well as phi from part b\n",
    "s = df[' Zonal COMED load foecast'].tail(5)\n",
    "phi = phi_z\n",
    "e = resi_z\n",
    "h = 5\n",
    "MySim = simulate_ar(bg, s, phi, e, h)\n",
    "\n",
    "MySim"
   ]
  },
  {
   "cell_type": "markdown",
   "id": "c406d93e",
   "metadata": {},
   "source": [
    "# d."
   ]
  },
  {
   "cell_type": "code",
   "execution_count": 17,
   "id": "9fe4abd8",
   "metadata": {},
   "outputs": [],
   "source": [
    "def simulate_N_ar(bg, s, p, h, N):\n",
    "    MySim = np.zeros((N, h))\n",
    "    pred = np.zeros(h)\n",
    "    \n",
    "    phi, e = get_phi_resi(s, p)\n",
    "    \n",
    "    for n in range(N):\n",
    "    #AR process: forecast next period and rolling it to s\n",
    "        for i in range(h):\n",
    "            next_pred = phi[0] + np.dot(phi[1:p+1], s[-1:-p-1:-1])\n",
    "            pred[i] = next_pred\n",
    "            s = np.append(s[1:], next_pred)\n",
    "\n",
    "    #Bootstrape error\n",
    "        error = [e[bg.integers(0, len(e))] for _ in range(h)]\n",
    "\n",
    "        for i in range(h):\n",
    "            MySim[n, i] = pred[i] + error[i]\n",
    "\n",
    "    return MySim"
   ]
  },
  {
   "cell_type": "code",
   "execution_count": 18,
   "id": "dc2c4413",
   "metadata": {},
   "outputs": [
    {
     "data": {
      "text/plain": [
       "array([[22.95279088, 16.89783946, 20.65016322, 19.72769583, 24.70607052],\n",
       "       [21.36018916, 26.19606695, 32.42075828, 22.92092645, 25.83562233],\n",
       "       [24.03387659, -4.95734156, 22.37368519, 26.37145856, 29.67710816],\n",
       "       [30.2745214 , 20.14153672, 29.00638851, 29.64161336, 29.6411846 ]])"
      ]
     },
     "execution_count": 18,
     "metadata": {},
     "output_type": "execute_result"
    }
   ],
   "source": [
    "\n",
    "# same to part c we use h=5 \n",
    "# we simulate this AR for N=4 times\n",
    "bg = BitGenerator\n",
    "\n",
    "# For Zonal COMED price\n",
    "# Optimal lags is 16, so we use last 16 observations to do the forecast\n",
    "\n",
    "s = df[' Zonal COMED price']\n",
    "p = 16\n",
    "h = 5\n",
    "N = 4\n",
    "res = simulate_N_ar(bg, s, p, h, N)\n",
    "\n",
    "res\n"
   ]
  },
  {
   "cell_type": "code",
   "execution_count": 19,
   "id": "f6410a69",
   "metadata": {},
   "outputs": [
    {
     "data": {
      "text/plain": [
       "array([[84356.65033725, 82004.11924477, 82442.21531973, 81418.87652246,\n",
       "        82960.25629129],\n",
       "       [83461.47928394, 83953.45974766, 84764.57492257, 86899.73619981,\n",
       "        87918.36116852],\n",
       "       [86031.92592898, 89653.00695218, 89874.33261171, 90472.30599856,\n",
       "        91059.03178889],\n",
       "       [89681.02868015, 91368.57570532, 88859.55434855, 89928.79383126,\n",
       "        93209.1917828 ]])"
      ]
     },
     "execution_count": 19,
     "metadata": {},
     "output_type": "execute_result"
    }
   ],
   "source": [
    "# For System load forecast\n",
    "# Optimal lags is 3, so we use last 3 observations to do the forecast\n",
    "\n",
    "s = df[' System load forecast']\n",
    "p = 3\n",
    "h = 5\n",
    "N = 4\n",
    "res = simulate_N_ar(bg, s, p, h, N)\n",
    "\n",
    "res\n"
   ]
  },
  {
   "cell_type": "code",
   "execution_count": 20,
   "id": "1d388b87",
   "metadata": {},
   "outputs": [
    {
     "data": {
      "text/plain": [
       "array([[10368.5429811 , 10043.10218463,  9688.1349473 ,  9811.8297492 ,\n",
       "         9825.34696123],\n",
       "       [ 9870.82805662, 10077.66579562,  9881.03772055, 10648.20915975,\n",
       "        10880.83290863],\n",
       "       [10639.27341823, 10981.83532321, 10960.35234019, 10693.81648963,\n",
       "        11144.72280216],\n",
       "       [11093.51803139, 11442.81953444, 11473.55484739, 11722.99806056,\n",
       "        11687.15772134]])"
      ]
     },
     "execution_count": 20,
     "metadata": {},
     "output_type": "execute_result"
    }
   ],
   "source": [
    "# For Zonel load forecast\n",
    "# Optimal lags is 5, so we use last 5 observations to do the forecast\n",
    "\n",
    "s = df[' Zonal COMED load foecast']\n",
    "p = 5\n",
    "h = 5\n",
    "N = 4\n",
    "res = simulate_N_ar(bg, s, p, h, N)\n",
    "\n",
    "res\n"
   ]
  },
  {
   "cell_type": "markdown",
   "id": "5e8a0db2",
   "metadata": {},
   "source": [
    "# e."
   ]
  },
  {
   "cell_type": "code",
   "execution_count": 21,
   "id": "8f947be9",
   "metadata": {},
   "outputs": [
    {
     "data": {
      "image/png": "[encoded data removed]",
      "text/plain": [
       "<Figure size 864x432 with 1 Axes>"
      ]
     },
     "metadata": {
      "needs_background": "light"
     },
     "output_type": "display_data"
    }
   ],
   "source": [
    "from scipy.stats import norm\n",
    "\n",
    "s = df[' Zonal COMED price']\n",
    "p = 24\n",
    "h = 20\n",
    "N = 1000\n",
    "alpha = 0.1\n",
    "\n",
    "prices = simulate_N_ar(bg, s, p, h, N)\n",
    "mean = np.mean(prices, axis=0)\n",
    "std = np.std(prices, axis=0)\n",
    "\n",
    "# CI\n",
    "z = norm.ppf(1 - alpha / 2)\n",
    "low = mean - (z * std / np.sqrt(N))\n",
    "up = mean + (z * std / np.sqrt(N))\n",
    "\n",
    "plt.figure(figsize=(12, 6))\n",
    "plt.plot(range(1, h + 1), mean, label='Mean Forecast', color='b')\n",
    "plt.fill_between(range(1, h + 1), low, up, color='lightblue', label='90% Confidence Interval')\n",
    "plt.xlabel('Hours ahead')\n",
    "plt.ylabel('Prices')\n",
    "plt.title('90% Confidence Interval for Forecasted Electricity Prices')\n",
    "plt.legend()\n",
    "plt.grid(True)\n",
    "plt.show()"
   ]
  },
  {
   "cell_type": "code",
   "execution_count": null,
   "id": "25d64b0f",
   "metadata": {},
   "outputs": [],
   "source": []
  }
 ],
 "metadata": {
  "kernelspec": {
   "display_name": "Python 3",
   "language": "python",
   "name": "python3"
  },
  "language_info": {
   "codemirror_mode": {
    "name": "ipython",
    "version": 3
   },
   "file_extension": ".py",
   "mimetype": "text/x-python",
   "name": "python",
   "nbconvert_exporter": "python",
   "pygments_lexer": "ipython3",
   "version": "3.8.8"
  }
 },
 "nbformat": 4,
 "nbformat_minor": 5
}
